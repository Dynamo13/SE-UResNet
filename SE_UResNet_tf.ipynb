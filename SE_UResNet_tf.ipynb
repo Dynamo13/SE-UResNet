{
 "cells": [
  {
   "cell_type": "code",
   "execution_count": null,
   "id": "c0744c9f",
   "metadata": {},
   "outputs": [],
   "source": [
    "from dataloader import *\n",
    "from model import *\n",
    "from main import *\n",
    "from utils import *\n",
    "import matplotlib.pyplot as plt"
   ]
  },
  {
   "cell_type": "code",
   "execution_count": null,
   "id": "04766fc7",
   "metadata": {},
   "outputs": [],
   "source": [
    "image_height=256\n",
    "image_width=256\n",
    "image_channel=3"
   ]
  },
  {
   "cell_type": "code",
   "execution_count": null,
   "id": "dbd05bca",
   "metadata": {},
   "outputs": [],
   "source": [
    "img_dir='E:/Data_test/images'\n",
    "mask_dir='E:/Data_test/mask'\n",
    "weight_dir='E:/Data_test/weights'\n",
    "\n",
    "main(img_dir,mask_dir,weight_dir)"
   ]
  },
  {
   "cell_type": "code",
   "execution_count": null,
   "id": "f8393f0f",
   "metadata": {},
   "outputs": [],
   "source": [
    "\n",
    "\n",
    "path = r'E:\\Data_test\\images\\CHNCXR_0001_0.png'\n",
    "model=SE_UResNet((image_height,image_width,image_channel),num_classes, dropout_rate=0.0, batch_norm=True)\n",
    "model.compile(optimizer='adam',loss='binary_crossentropy',metrics=['accuracy'])\n",
    "model.load_weights(str(weight_dir)+'/weights.h5')\n",
    "\n",
    "test_image = cv2.resize(cv2.imread(path),(image_height,image_width))\n",
    "predicted_image=model.predict(test_image.reshape(1,image_height,image_width,image_channel))\n",
    "plt.imshow(predicted_image[0]>0.5,cmap='gray')"
   ]
  }
 ],
 "metadata": {
  "kernelspec": {
   "display_name": "Python 3 (ipykernel)",
   "language": "python",
   "name": "python3"
  },
  "language_info": {
   "codemirror_mode": {
    "name": "ipython",
    "version": 3
   },
   "file_extension": ".py",
   "mimetype": "text/x-python",
   "name": "python",
   "nbconvert_exporter": "python",
   "pygments_lexer": "ipython3",
   "version": "3.9.17"
  }
 },
 "nbformat": 4,
 "nbformat_minor": 5
}
