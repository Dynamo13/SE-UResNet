{
 "cells": [
  {
   "cell_type": "code",
   "execution_count": 2,
   "id": "3b25d1e4",
   "metadata": {},
   "outputs": [],
   "source": [
    "import os, cv2\n",
    "import numpy as np\n",
    "import pandas as pd\n",
    "import random\n",
    "import seaborn as sns\n",
    "import skimage.io\n",
    "import skimage.draw\n",
    "from skimage.draw import polygon\n",
    "from skimage.transform import resize\n",
    "import json\n",
    "import matplotlib.pyplot as plt\n",
    "from skimage.transform import resize"
   ]
  },
  {
   "cell_type": "code",
   "execution_count": 3,
   "id": "3349f3c8",
   "metadata": {},
   "outputs": [],
   "source": [
    "import torch\n",
    "import torchvision\n",
    "from torch.utils.data import DataLoader,TensorDataset\n",
    "import torch.nn as nn"
   ]
  },
  {
   "cell_type": "markdown",
   "id": "55e49755",
   "metadata": {},
   "source": [
    "# EXP-1"
   ]
  },
  {
   "cell_type": "code",
   "execution_count": 9,
   "id": "fdb3b7ef",
   "metadata": {},
   "outputs": [],
   "source": [
    "class DoubleConv(nn.Module):\n",
    "    def __init__(self, in_channels, out_channels, dropout = False, rate = 0.0):\n",
    "        super(DoubleConv, self).__init__()\n",
    "        self.dropout = dropout\n",
    "        self.rate = rate\n",
    "        if self.dropout == False:\n",
    "            self.double_conv = nn.Sequential(\n",
    "                nn.Conv2d(in_channels, out_channels, kernel_size=3, padding=1),\n",
    "                nn.BatchNorm2d(out_channels),\n",
    "                nn.ReLU(inplace=True),\n",
    "                nn.Conv2d(out_channels, out_channels, kernel_size=3, padding=1),\n",
    "                nn.BatchNorm2d(out_channels),\n",
    "                nn.ReLU(inplace=True),\n",
    "            )\n",
    "        else:\n",
    "            self.double_conv = nn.Sequential(\n",
    "                nn.Conv2d(in_channels, out_channels, kernel_size=3, padding=1),\n",
    "                nn.BatchNorm2d(out_channels),\n",
    "                nn.ReLU(inplace=True),\n",
    "                nn.Dropout(p=rate),\n",
    "                nn.Conv2d(out_channels, out_channels, kernel_size=3, padding=1),\n",
    "                nn.BatchNorm2d(out_channels),\n",
    "                nn.ReLU(inplace=True),\n",
    "            )\n",
    "\n",
    "    def forward(self, x):\n",
    "        return self.double_conv(x)\n",
    "\n",
    "class DownBlock(nn.Module):\n",
    "    def __init__(self, in_channels, out_channels):\n",
    "        super(DownBlock, self).__init__()\n",
    "        self.double_conv = DoubleConv(in_channels, out_channels)\n",
    "        self.down_sample = nn.MaxPool2d(2)\n",
    "\n",
    "    def forward(self, x):\n",
    "        skip_out = self.double_conv(x)\n",
    "        down_out = self.down_sample(skip_out)\n",
    "        return (down_out, skip_out)\n",
    "    \n",
    "class W_up_Block(nn.Module):\n",
    "    def __init__(self, in_channels,intermediate_channels, out_channels):\n",
    "        super(W_up_Block,self).__init__()\n",
    "        self.double_conv = DoubleConv(in_channels, intermediate_channels)\n",
    "        self.up_sample =  nn.Upsample(scale_factor=2, mode='bilinear', align_corners=True)\n",
    "    \n",
    "    def forward(self,x):\n",
    "        conv = self.double_conv(x)\n",
    "        x = self.up_sample(conv)\n",
    "        return x, conv\n",
    "    \n",
    "class W_down_Block(nn.Module):\n",
    "    def __init__(self, in_channels, intermediate_channels, out_channels, dropout, dropout_rate):\n",
    "        super(W_down_Block,self).__init__()\n",
    "        self.double_conv1 = ResBlock(in_channels, intermediate_channels)\n",
    "        self.double_conv2 = DoubleConv(intermediate_channels, out_channels)\n",
    "        self.down_sample = nn.MaxPool2d(2)\n",
    "        \n",
    "    def forward(self, x, skip_input):\n",
    "        x = torch.cat([x, skip_input], dim=1)\n",
    "        x = self.double_conv1(x)\n",
    "        out = self.down_sample(x)\n",
    "        final = self.double_conv2(out)\n",
    "        return (final,x)\n",
    "    \n",
    "class UpBlock(nn.Module):\n",
    "    def __init__(self, in_channels, out_channels, up_sample_mode):\n",
    "        super(UpBlock, self).__init__()\n",
    "        if up_sample_mode == 'conv_transpose':\n",
    "            self.up_sample = nn.ConvTranspose2d(in_channels-out_channels, in_channels-out_channels, kernel_size=2, stride=2)        \n",
    "        elif up_sample_mode == 'bilinear':\n",
    "            self.up_sample = nn.Upsample(scale_factor=2, mode='bilinear', align_corners=True)\n",
    "        else:\n",
    "            raise ValueError(\"Unsupported `up_sample_mode` (can take one of `conv_transpose` or `bilinear`)\")\n",
    "        self.double_conv = DoubleConv(in_channels, out_channels)\n",
    "\n",
    "    def forward(self, down_input, skip_input):\n",
    "        x = self.up_sample(down_input)\n",
    "        x = torch.cat([x, skip_input], dim=1)\n",
    "        return self.double_conv(x)\n",
    "\n",
    "class ResBlock(nn.Module):\n",
    "    def __init__(self, in_channels, out_channels, dropout=False, dropout_rate=0.0):\n",
    "        super(ResBlock,self).__init__()\n",
    "        self.double_conv1 = nn.Conv2d(in_channels, 1, kernel_size = 1)\n",
    "        self.double_conv2 = DoubleConv(in_channels, out_channels, dropout = True, rate = 0.2)\n",
    "        self.relu = nn.ReLU(inplace=True)\n",
    "        \n",
    "    def forward(self, x):\n",
    "        x_skip = x\n",
    "        x_skip = self.double_conv1(x_skip)\n",
    "        x = self.double_conv2(x)\n",
    "        x = torch.add(x,x_skip)\n",
    "        x = self.relu(x)\n",
    "        return x\n",
    "    \n",
    "class W_up_Block(nn.Module):\n",
    "    def __init__(self, in_channels,intermediate_channels, out_channels, ):\n",
    "        super(W_up_Block,self).__init__()\n",
    "        self.double_conv = DoubleConv(in_channels, intermediate_channels)\n",
    "        self.up_sample =  nn.Upsample(scale_factor=2, mode='bilinear', align_corners=True)\n",
    "    \n",
    "    def forward(self,x):\n",
    "        x = self.double_conv(x)\n",
    "        x = self.up_sample(x)\n",
    "        return x\n",
    "    \n",
    "class SandE(nn.Module):\n",
    "    def __init__(self, filter_size, input_filter, rate):\n",
    "        super(SandE,self).__init__()\n",
    "        self.gap = nn.AvgPool2d(kernel_size=filter_size)\n",
    "        self.flat = nn.Flatten()\n",
    "        self.dense1 = nn.Linear(input_filter, int(input_filter*rate))\n",
    "        self.relu = nn.ReLU(inplace=True)\n",
    "        self.dense2 = nn.Linear(int(input_filter*rate), input_filter)\n",
    "        self.sigmoid = nn.Sigmoid()\n",
    "        \n",
    "    def forward(self, x):\n",
    "        copy = x\n",
    "        x = self.gap(x)\n",
    "        x = self.flat(x)\n",
    "        x = self.dense1(x)\n",
    "        x = self.relu(x)\n",
    "        x = self.dense2(x)\n",
    "        x = self.sigmoid(x)\n",
    "        x = torch.mul(copy,torch.unsqueeze(torch.unsqueeze(x,2),3))\n",
    "        return x"
   ]
  },
  {
   "cell_type": "code",
   "execution_count": null,
   "id": "0c2679ff",
   "metadata": {},
   "outputs": [],
   "source": [
    "class UNet(nn.Module):\n",
    "    def __init__(self,input_dim, se_rate, dropout = False, dropout_rate = 0.0, out_classes=1, up_sample_mode='conv_transpose'):\n",
    "        super(UNet, self).__init__()\n",
    "        self.up_sample_mode = up_sample_mode\n",
    "        self.dropout = dropout\n",
    "        self.dropout_rate = dropout_rate\n",
    "        self.input_dim = input_dim\n",
    "        self.se_rate = se_rate\n",
    "        # Downsampling Path\n",
    "        self.down_conv1 = DownBlock(3, 64)\n",
    "        self.down_conv2 = DownBlock(64, 128)\n",
    "        self.down_conv3 = DownBlock(128, 256)\n",
    "        self.down_conv4 = DownBlock(256, 512)\n",
    "        # Transient Block\n",
    "        self.w_conv1 = W_up_Block(512, 1024, 512)\n",
    "        self.attenw = SandE(int(input_dim/(2**3)), 512, self.se_rate)\n",
    "        self.w_conv2 = W_down_Block(512 + 1024, 512, 1024, self.dropout, self.dropout_rate)\n",
    "        # Upsampling Path\n",
    "        self.atten4 = SandE(int(input_dim/(2**3)), 512, self.se_rate)\n",
    "        self.up_conv4 = UpBlock(512 + 1024, 512, self.up_sample_mode)\n",
    "        self.atten3 = SandE(int(input_dim/(2**2)), 256, self.se_rate)\n",
    "        self.up_conv3 = UpBlock(256 + 512, 256, self.up_sample_mode)\n",
    "        self.atten2 = SandE(int(input_dim/(2**1)), 128, self.se_rate)\n",
    "        self.up_conv2 = UpBlock(128 + 256, 128, self.up_sample_mode)\n",
    "        self.atten1 = SandE(int(input_dim), 64, self.se_rate)\n",
    "        self.up_conv1 = UpBlock(128 + 64, 64, self.up_sample_mode)\n",
    "        # Final Convolution\n",
    "        self.conv_last = nn.Conv2d(64, out_classes, kernel_size=1)\n",
    "\n",
    "    def forward(self, x):\n",
    "        x, skip1_out = self.down_conv1(x)\n",
    "        x, skip2_out = self.down_conv2(x)\n",
    "        x, skip3_out = self.down_conv3(x)\n",
    "        x, skip4_out = self.down_conv4(x)\n",
    "        #print(skip4_out.shape)\n",
    "        #print(x.shape)\n",
    "        x = self.w_conv1(x)\n",
    "        #print(x.shape)\n",
    "        #print(g.shape)\n",
    "        #print(skip4_out.shape)\n",
    "        a = self.attenw(skip4_out)\n",
    "        #print(x.shape,a.shape)\n",
    "        x, skipw_out = self.w_conv2(x,a)\n",
    "        #print(x.shape)\n",
    "        #print(skipw_out.shape)\n",
    "        a = self.atten4(skipw_out)\n",
    "        x = self.up_conv4(x, a)\n",
    "        a = self.atten3(skip3_out)\n",
    "        x = self.up_conv3(x, a)\n",
    "        a = self.atten2(skip2_out)\n",
    "        x = self.up_conv2(x, a)\n",
    "        a = self.atten1(skip1_out)\n",
    "        x = self.up_conv1(x, a)\n",
    "        x = self.conv_last(x)\n",
    "        return x\n",
    "    \n",
    "\n",
    "# Get UNet model\n",
    "model = UNet(input_dim=128, se_rate = 0.2)"
   ]
  },
  {
   "cell_type": "markdown",
   "id": "739e1450",
   "metadata": {},
   "source": [
    "# Original Code"
   ]
  },
  {
   "cell_type": "code",
   "execution_count": 7,
   "id": "df5f1dda",
   "metadata": {},
   "outputs": [],
   "source": [
    "class DoubleConv(nn.Module):\n",
    "    def __init__(self, in_channels, out_channels, dropout = False, rate = 0.0):\n",
    "        super(DoubleConv, self).__init__()\n",
    "        self.dropout = dropout\n",
    "        self.rate = rate\n",
    "        if self.dropout == False:\n",
    "            self.double_conv = nn.Sequential(\n",
    "                nn.Conv2d(in_channels, out_channels, kernel_size=3, padding=1),\n",
    "                nn.BatchNorm2d(out_channels),\n",
    "                nn.ReLU(inplace=True),\n",
    "                nn.Conv2d(out_channels, out_channels, kernel_size=3, padding=1),\n",
    "                nn.BatchNorm2d(out_channels),\n",
    "                nn.ReLU(inplace=True),\n",
    "            )\n",
    "        else:\n",
    "            self.double_conv = nn.Sequential(\n",
    "                nn.Conv2d(in_channels, out_channels, kernel_size=3, padding=1),\n",
    "                nn.BatchNorm2d(out_channels),\n",
    "                nn.ReLU(inplace=True),\n",
    "                nn.Dropout(p=rate),\n",
    "                nn.Conv2d(out_channels, out_channels, kernel_size=3, padding=1),\n",
    "                nn.BatchNorm2d(out_channels),\n",
    "                nn.ReLU(inplace=True),\n",
    "            )\n",
    "\n",
    "    def forward(self, x):\n",
    "        return self.double_conv(x)\n",
    "\n",
    "class DownBlock(nn.Module):\n",
    "    def __init__(self, in_channels, out_channels):\n",
    "        super(DownBlock, self).__init__()\n",
    "        self.double_conv = DoubleConv(in_channels, out_channels)\n",
    "        self.down_sample = nn.MaxPool2d(2)\n",
    "\n",
    "    def forward(self, x):\n",
    "        skip_out = self.double_conv(x)\n",
    "        down_out = self.down_sample(skip_out)\n",
    "        return (down_out, skip_out)\n",
    "    \n",
    "class W_up_Block(nn.Module):\n",
    "    def __init__(self, in_channels,intermediate_channels, out_channels):\n",
    "        super(W_up_Block,self).__init__()\n",
    "        self.double_conv = DoubleConv(in_channels, intermediate_channels)\n",
    "        self.up_sample =  nn.Upsample(scale_factor=2, mode='bilinear', align_corners=True)\n",
    "    \n",
    "    def forward(self,x):\n",
    "        conv = self.double_conv(x)\n",
    "        x = self.up_sample(conv)\n",
    "        return x, conv\n",
    "    \n",
    "class W_down_Block(nn.Module):\n",
    "    def __init__(self, in_channels, intermediate_channels, out_channels, dropout, dropout_rate):\n",
    "        super(W_down_Block,self).__init__()\n",
    "        self.double_conv1 = ResBlock(in_channels, intermediate_channels)\n",
    "        self.double_conv2 = DoubleConv(intermediate_channels, out_channels)\n",
    "        self.down_sample = nn.MaxPool2d(2)\n",
    "        \n",
    "    def forward(self, x, skip_input):\n",
    "        x = torch.cat([x, skip_input], dim=1)\n",
    "        x = self.double_conv1(x)\n",
    "        out = self.down_sample(x)\n",
    "        final = self.double_conv2(out)\n",
    "        return (final,x)\n",
    "    \n",
    "class UpBlock(nn.Module):\n",
    "    def __init__(self, in_channels, out_channels, up_sample_mode):\n",
    "        super(UpBlock, self).__init__()\n",
    "        if up_sample_mode == 'conv_transpose':\n",
    "            self.up_sample = nn.ConvTranspose2d(in_channels-out_channels, in_channels-out_channels, kernel_size=2, stride=2)        \n",
    "        elif up_sample_mode == 'bilinear':\n",
    "            self.up_sample = nn.Upsample(scale_factor=2, mode='bilinear', align_corners=True)\n",
    "        else:\n",
    "            raise ValueError(\"Unsupported `up_sample_mode` (can take one of `conv_transpose` or `bilinear`)\")\n",
    "        self.double_conv = DoubleConv(in_channels, out_channels)\n",
    "\n",
    "    def forward(self, down_input, skip_input):\n",
    "        x = self.up_sample(down_input)\n",
    "        x = torch.cat([x, skip_input], dim=1)\n",
    "        return self.double_conv(x)\n",
    "\n",
    "class ResBlock(nn.Module):\n",
    "    def __init__(self, in_channels, out_channels, dropout=False, dropout_rate=0.0):\n",
    "        super(ResBlock,self).__init__()\n",
    "        self.double_conv1 = nn.Conv2d(in_channels, 1, kernel_size = 1)\n",
    "        self.double_conv2 = DoubleConv(in_channels, out_channels, dropout = True, rate = 0.2)\n",
    "        self.relu = nn.ReLU(inplace=True)\n",
    "        \n",
    "    def forward(self, x):\n",
    "        x_skip = x\n",
    "        x_skip = self.double_conv1(x_skip)\n",
    "        x = self.double_conv2(x)\n",
    "        x = torch.add(x,x_skip)\n",
    "        x = self.relu(x)\n",
    "        return x\n",
    "    \n",
    "class W_up_Block(nn.Module):\n",
    "    def __init__(self, in_channels,intermediate_channels, out_channels, ):\n",
    "        super(W_up_Block,self).__init__()\n",
    "        self.double_conv = DoubleConv(in_channels, intermediate_channels)\n",
    "        self.up_sample =  nn.Upsample(scale_factor=2, mode='bilinear', align_corners=True)\n",
    "    \n",
    "    def forward(self,x):\n",
    "        x = self.double_conv(x)\n",
    "        x = self.up_sample(x)\n",
    "        return x\n",
    "    \n",
    "class SandE(nn.Module):\n",
    "    def __init__(self, filter_size, input_filter):\n",
    "        super(SandE,self).__init__()\n",
    "        self.gap = nn.AvgPool2d(kernel_size=filter_size)\n",
    "        self.flat = nn.Flatten()\n",
    "        self.dense1 = nn.Linear(input_filter, 1)\n",
    "        self.relu = nn.ReLU(inplace=True)\n",
    "        self.dense2 = nn.Linear(1, input_filter)\n",
    "        self.sigmoid = nn.Sigmoid()\n",
    "        \n",
    "    def forward(self, x):\n",
    "        copy = x\n",
    "        x = self.gap(x)\n",
    "        x = self.flat(x)\n",
    "        x = self.dense1(x)\n",
    "        x = self.relu(x)\n",
    "        x = self.dense2(x)\n",
    "        x = self.sigmoid(x)\n",
    "        x = torch.mul(copy,torch.unsqueeze(torch.unsqueeze(x,2),3))\n",
    "        return x"
   ]
  },
  {
   "cell_type": "code",
   "execution_count": null,
   "id": "a6a1de3d",
   "metadata": {},
   "outputs": [],
   "source": []
  },
  {
   "cell_type": "code",
   "execution_count": 94,
   "id": "df6d8c0b",
   "metadata": {},
   "outputs": [
    {
     "name": "stdout",
     "output_type": "stream",
     "text": [
      "torch.Size([1, 512, 16, 16])\n",
      "torch.Size([1, 1, 16, 16])\n",
      "torch.Size([1, 1024, 16, 16])\n"
     ]
    }
   ],
   "source": [
    "i = torch.randn(1, 512, 16, 16)\n",
    "m = ResBlock(512, 1024)\n",
    "o = m(i)"
   ]
  },
  {
   "cell_type": "code",
   "execution_count": 28,
   "id": "184b7dbb",
   "metadata": {},
   "outputs": [
    {
     "data": {
      "text/plain": [
       "8.0"
      ]
     },
     "execution_count": 28,
     "metadata": {},
     "output_type": "execute_result"
    }
   ],
   "source": [
    "128/16"
   ]
  },
  {
   "cell_type": "code",
   "execution_count": 49,
   "id": "78a2ef90",
   "metadata": {},
   "outputs": [
    {
     "data": {
      "text/plain": [
       "torch.Size([1, 512, 1, 1])"
      ]
     },
     "execution_count": 49,
     "metadata": {},
     "output_type": "execute_result"
    }
   ],
   "source": [
    "o.shape"
   ]
  },
  {
   "cell_type": "code",
   "execution_count": 104,
   "id": "40fa2044",
   "metadata": {},
   "outputs": [],
   "source": [
    "class UNet(nn.Module):\n",
    "    def __init__(self,input_dim, dropout = False, dropout_rate = 0.0, out_classes=1, up_sample_mode='conv_transpose'):\n",
    "        super(UNet, self).__init__()\n",
    "        self.up_sample_mode = up_sample_mode\n",
    "        self.dropout = dropout\n",
    "        self.dropout_rate = dropout_rate\n",
    "        self.input_dim = input_dim\n",
    "        # Downsampling Path\n",
    "        self.down_conv1 = DownBlock(3, 64)\n",
    "        self.down_conv2 = DownBlock(64, 128)\n",
    "        self.down_conv3 = DownBlock(128, 256)\n",
    "        self.down_conv4 = DownBlock(256, 512)\n",
    "        # Transient Block\n",
    "        self.w_conv1 = W_up_Block(512, 1024, 512)\n",
    "        self.attenw = SandE(int(input_dim/(2**3)), 512)\n",
    "        self.w_conv2 = W_down_Block(512 + 1024, 512, 1024, self.dropout, self.dropout_rate)\n",
    "        # Upsampling Path\n",
    "        self.atten4 = SandE(int(input_dim/(2**3)), 512)\n",
    "        self.up_conv4 = UpBlock(512 + 1024, 512, self.up_sample_mode)\n",
    "        self.atten3 = SandE(int(input_dim/(2**2)), 256)\n",
    "        self.up_conv3 = UpBlock(256 + 512, 256, self.up_sample_mode)\n",
    "        self.atten2 = SandE(int(input_dim/(2**1)), 128)\n",
    "        self.up_conv2 = UpBlock(128 + 256, 128, self.up_sample_mode)\n",
    "        self.atten1 = SandE(int(input_dim), 64)\n",
    "        self.up_conv1 = UpBlock(128 + 64, 64, self.up_sample_mode)\n",
    "        # Final Convolution\n",
    "        self.conv_last = nn.Conv2d(64, out_classes, kernel_size=1)\n",
    "\n",
    "    def forward(self, x):\n",
    "        x, skip1_out = self.down_conv1(x)\n",
    "        x, skip2_out = self.down_conv2(x)\n",
    "        x, skip3_out = self.down_conv3(x)\n",
    "        x, skip4_out = self.down_conv4(x)\n",
    "        #print(skip4_out.shape)\n",
    "        #print(x.shape)\n",
    "        x = self.w_conv1(x)\n",
    "        #print(x.shape)\n",
    "        #print(g.shape)\n",
    "        #print(skip4_out.shape)\n",
    "        a = self.attenw(skip4_out)\n",
    "        #print(x.shape,a.shape)\n",
    "        x, skipw_out = self.w_conv2(x,a)\n",
    "        #print(x.shape)\n",
    "        #print(skipw_out.shape)\n",
    "        a = self.atten4(skipw_out)\n",
    "        x = self.up_conv4(x, a)\n",
    "        a = self.atten3(skip3_out)\n",
    "        x = self.up_conv3(x, a)\n",
    "        a = self.atten2(skip2_out)\n",
    "        x = self.up_conv2(x, a)\n",
    "        a = self.atten1(skip1_out)\n",
    "        x = self.up_conv1(x, a)\n",
    "        x = self.conv_last(x)\n",
    "        return x\n",
    "    \n",
    "\n",
    "# Get UNet model\n",
    "model = UNet(input_dim=128)"
   ]
  },
  {
   "cell_type": "code",
   "execution_count": 11,
   "id": "24efbf32",
   "metadata": {},
   "outputs": [],
   "source": [
    "import torchmetrics\n",
    "from torchmetrics.classification import Accuracy\n",
    "TRAINING = True\n",
    "\n",
    "# Set num of epochs\n",
    "EPOCHS = 12\n",
    "\n",
    "# Set device: `cuda` or `cpu`\n",
    "DEVICE = torch.device(\"cuda\" if torch.cuda.is_available() else \"cpu\")\n",
    "\n",
    "# define loss function\n",
    "loss_fn = nn.CrossEntropyLoss()\n",
    "\n",
    "# define metrics\n",
    "metrics = [\n",
    "    Accuracy(task='binary'),\n",
    "]\n",
    "\n",
    "# define optimizer\n",
    "optimizer = torch.optim.Adam([ \n",
    "    dict(params=model.parameters(), lr=0.0001),\n",
    "])\n",
    "\n",
    "# define learning rate scheduler (not used in this NB)\n",
    "lr_scheduler = torch.optim.lr_scheduler.CosineAnnealingWarmRestarts(\n",
    "    optimizer, T_0=1, T_mult=2, eta_min=5e-5,\n",
    ")"
   ]
  },
  {
   "cell_type": "code",
   "execution_count": 12,
   "id": "db8318eb",
   "metadata": {},
   "outputs": [],
   "source": [
    "model=model.to(DEVICE)"
   ]
  },
  {
   "cell_type": "code",
   "execution_count": 13,
   "id": "d557ea05",
   "metadata": {},
   "outputs": [],
   "source": [
    "criterion=nn.BCELoss()"
   ]
  },
  {
   "cell_type": "code",
   "execution_count": 14,
   "id": "d3cbed7a",
   "metadata": {},
   "outputs": [],
   "source": [
    "from torch.utils.tensorboard import SummaryWriter\n",
    "from datetime import datetime\n",
    "import gc\n",
    "from tqdm import tqdm"
   ]
  },
  {
   "cell_type": "code",
   "execution_count": 15,
   "id": "356590cd",
   "metadata": {},
   "outputs": [],
   "source": [
    "def two_roi(data,image,num):\n",
    "    df_lmask=[]\n",
    "    id=str(num)+'.png'\n",
    "    x1=[data['_via_img_metadata'][id]['regions'][1]['shape_attributes']['all_points_x']]\n",
    "    y1=[data['_via_img_metadata'][id]['regions'][1]['shape_attributes']['all_points_y']]\n",
    "    x2=[data['_via_img_metadata'][id]['regions'][0]['shape_attributes']['all_points_x']]\n",
    "    y2=[data['_via_img_metadata'][id]['regions'][0]['shape_attributes']['all_points_y']]\n",
    "    poly=[]\n",
    "    for i in range(len(x2[0])):\n",
    "        poly.append((x2[0][i],y2[0][i]))\n",
    "    poly.append((x2[0][0],y2[0][0]))\n",
    "    for i in range(len(x1[0])):\n",
    "        poly.append((x1[0][i],y1[0][i]))\n",
    "    poly.append((x1[0][0],y1[0][0]))\n",
    "    poly=np.array(poly) \n",
    "    mask = np.ones(shape=image.shape[0:2] ,dtype=\"bool\")\n",
    "    rr, cc = polygon(poly[:, 1], poly[:, 0], image.shape)\n",
    "    mask[rr,cc]=0\n",
    "    image[mask]=0\n",
    "    return resize(mask,(IMG_HEIGHT,IMG_WIDTH,1))\n",
    "    \n",
    "def one_roi(data,image,num):\n",
    "    df_lmask=[]\n",
    "    id=str(num)+'.png'\n",
    "    x1=[data['_via_img_metadata'][id]['regions'][0]['shape_attributes']['all_points_x']]\n",
    "    y1=[data['_via_img_metadata'][id]['regions'][0]['shape_attributes']['all_points_y']]\n",
    "    poly=[]\n",
    "    for i in range(len(x1[0])):\n",
    "        poly.append((x1[0][i],y1[0][i]))\n",
    "    poly.append((x1[0][0],y1[0][0]))\n",
    "    poly=np.array(poly) \n",
    "    mask = np.ones(shape=image.shape[0:2] ,dtype=\"bool\")\n",
    "    rr, cc = polygon(poly[:, 1], poly[:, 0], image.shape)\n",
    "    mask[rr,cc]=0\n",
    "    image[mask]=0\n",
    "    return resize(mask,(IMG_HEIGHT,IMG_WIDTH,1))"
   ]
  },
  {
   "cell_type": "code",
   "execution_count": 16,
   "id": "69b0ec70",
   "metadata": {},
   "outputs": [],
   "source": [
    "df_image=[]\n",
    "df_mask=[]\n",
    "mask_builder='collarbone'\n",
    "IMG_HEIGHT=128\n",
    "IMG_WIDTH=128\n",
    "IMG_CHANNELS=3\n",
    "image_path=\"E:\\\\Attention UW-Net\\\\train_image\\\\images\\\\\"\n",
    "mask_path=\"E:\\\\Attention UW-Net\\\\train_data\\\\\"+str(mask_builder)+\"\\\\\"\n",
    "for i in range(150):\n",
    "    df_image.append(resize(skimage.io.imread(image_path+str(i+1)+'.png'),(128,128,3)))\n",
    "df_lmask=[]\n",
    "for i in range(150):\n",
    "    image = skimage.io.imread(\"E:\\\\Attention UW-Net\\\\train_image\\\\images\\\\1.png\")\n",
    "    f = open(mask_path+str(i+1)+'.json','r')\n",
    "    data=json.load(f)\n",
    "    if mask_builder == 'collarbone' or ' lungs':\n",
    "        df_mask.append(two_roi(data,image,i+1))\n",
    "    else:\n",
    "        df_mask.append(one_roi(data,image,i+1))"
   ]
  },
  {
   "cell_type": "code",
   "execution_count": 17,
   "id": "187e623f",
   "metadata": {},
   "outputs": [],
   "source": [
    "X=(np.array(df_image)).reshape((len(df_image),IMG_HEIGHT,IMG_WIDTH,3))\n",
    "Y=(np.array(df_mask)).reshape((len(df_mask),IMG_HEIGHT,IMG_WIDTH,1))\n",
    "from sklearn.model_selection import train_test_split\n",
    "x_train, x_val, y_train, y_val = train_test_split(X,Y, test_size=0.20, random_state=42)"
   ]
  },
  {
   "cell_type": "code",
   "execution_count": 18,
   "id": "103760a5",
   "metadata": {},
   "outputs": [],
   "source": [
    "class BuildingsDataset(torch.utils.data.Dataset):\n",
    "    \n",
    "    def __init__(self, images, masks):\n",
    "        self.images = images\n",
    "        self.masks = masks\n",
    "    def __getitem__(self, i):\n",
    "        \n",
    "        # read images and masks\n",
    "        image=torch.Tensor(np.swapaxes(self.images[i],0,2))\n",
    "        mask=torch.Tensor(np.swapaxes(self.masks[i].astype('uint8'),0,2))            \n",
    "        return image, mask\n",
    "        \n",
    "    def __len__(self):\n",
    "        # return length of \n",
    "        return len(self.images)"
   ]
  },
  {
   "cell_type": "code",
   "execution_count": 19,
   "id": "d9ae2fbf",
   "metadata": {},
   "outputs": [],
   "source": [
    "train_dataset = BuildingsDataset(x_train, y_train)\n",
    "train_loader = DataLoader(train_dataset, batch_size=16, shuffle=True)\n",
    "val_dataset = BuildingsDataset(x_val, y_val)\n",
    "val_loader = DataLoader(val_dataset, batch_size=16, shuffle=True)"
   ]
  },
  {
   "cell_type": "code",
   "execution_count": 35,
   "id": "860a6698",
   "metadata": {},
   "outputs": [
    {
     "name": "stderr",
     "output_type": "stream",
     "text": [
      "100%|██████████| 8/8 [00:02<00:00,  3.98it/s, Epoch=1/20, current_loss=0.06]\n",
      "100%|██████████| 2/2 [00:00<00:00, 16.64it/s]\n",
      "100%|██████████| 8/8 [00:01<00:00,  4.63it/s, Epoch=2/20, current_loss=0.06]\n",
      "100%|██████████| 2/2 [00:00<00:00, 16.64it/s]\n",
      "100%|██████████| 8/8 [00:01<00:00,  4.51it/s, Epoch=3/20, current_loss=0.06]\n",
      "100%|██████████| 2/2 [00:00<00:00, 16.64it/s]\n",
      "100%|██████████| 8/8 [00:01<00:00,  4.60it/s, Epoch=4/20, current_loss=0.06]\n",
      "100%|██████████| 2/2 [00:00<00:00, 16.40it/s]\n",
      "100%|██████████| 8/8 [00:01<00:00,  4.59it/s, Epoch=5/20, current_loss=0.06]\n",
      "100%|██████████| 2/2 [00:00<00:00, 16.64it/s]\n",
      "100%|██████████| 8/8 [00:01<00:00,  4.61it/s, Epoch=6/20, current_loss=0.06]\n",
      "100%|██████████| 2/2 [00:00<00:00, 16.57it/s]\n",
      "100%|██████████| 8/8 [00:01<00:00,  4.55it/s, Epoch=7/20, current_loss=0.06]\n",
      "100%|██████████| 2/2 [00:00<00:00, 16.50it/s]\n",
      "100%|██████████| 8/8 [00:01<00:00,  4.66it/s, Epoch=8/20, current_loss=0.06]\n",
      "100%|██████████| 2/2 [00:00<00:00, 16.63it/s]\n",
      "100%|██████████| 8/8 [00:01<00:00,  4.65it/s, Epoch=9/20, current_loss=0.06]\n",
      "100%|██████████| 2/2 [00:00<00:00, 16.37it/s]\n",
      "100%|██████████| 8/8 [00:01<00:00,  4.55it/s, Epoch=10/20, current_loss=0.05]\n",
      "100%|██████████| 2/2 [00:00<00:00, 16.37it/s]\n",
      "100%|██████████| 8/8 [00:01<00:00,  4.72it/s, Epoch=11/20, current_loss=0.06]\n",
      "100%|██████████| 2/2 [00:00<00:00, 16.50it/s]\n",
      "100%|██████████| 8/8 [00:01<00:00,  4.51it/s, Epoch=12/20, current_loss=0.05]\n",
      "100%|██████████| 2/2 [00:00<00:00, 16.50it/s]\n",
      "100%|██████████| 8/8 [00:01<00:00,  4.45it/s, Epoch=13/20, current_loss=0.06]\n",
      "100%|██████████| 2/2 [00:00<00:00, 16.11it/s]\n",
      "100%|██████████| 8/8 [00:01<00:00,  4.55it/s, Epoch=14/20, current_loss=0.05]\n",
      "100%|██████████| 2/2 [00:00<00:00, 16.37it/s]\n",
      "100%|██████████| 8/8 [00:01<00:00,  4.56it/s, Epoch=15/20, current_loss=0.05]\n",
      "100%|██████████| 2/2 [00:00<00:00, 16.37it/s]\n",
      "100%|██████████| 8/8 [00:01<00:00,  4.56it/s, Epoch=16/20, current_loss=0.06]\n",
      "100%|██████████| 2/2 [00:00<00:00, 16.50it/s]\n",
      "100%|██████████| 8/8 [00:01<00:00,  4.63it/s, Epoch=17/20, current_loss=0.05]\n",
      "100%|██████████| 2/2 [00:00<00:00, 16.11it/s]\n",
      "100%|██████████| 8/8 [00:01<00:00,  4.57it/s, Epoch=18/20, current_loss=0.05]\n",
      "100%|██████████| 2/2 [00:00<00:00, 16.37it/s]\n",
      "100%|██████████| 8/8 [00:01<00:00,  4.64it/s, Epoch=19/20, current_loss=0.05]\n",
      "100%|██████████| 2/2 [00:00<00:00, 16.37it/s]\n",
      "100%|██████████| 8/8 [00:01<00:00,  4.65it/s, Epoch=20/20, current_loss=0.05]\n",
      "100%|██████████| 2/2 [00:00<00:00, 16.23it/s]\n"
     ]
    }
   ],
   "source": [
    "i=0\n",
    "total =20\n",
    "scheduler = lr_scheduler\n",
    "for epoch in range(total):\n",
    "    pbar = tqdm(train_loader);\n",
    "    \n",
    "    model.train()\n",
    "    optimizer.zero_grad()\n",
    "    running_loss=0.\n",
    "    for (x, mask) in pbar:\n",
    "        y_pred = nn.Sigmoid()(model(x.cuda()))\n",
    "        loss = criterion(y_pred,\n",
    "                         mask.cuda())\n",
    "        running_loss += (loss.item())/len(train_loader)\n",
    "        pbar.set_postfix({'Epoch': f'{epoch+1}/{total}',\n",
    "                          'current_loss':f'{loss.item():.2f}'})\n",
    "        loss.backward()\n",
    "        optimizer.step()\n",
    "        \n",
    "        gc.collect()\n",
    "        torch.cuda.empty_cache()\n",
    "    #print(running_loss)\n",
    "    scheduler.step(running_loss)\n",
    "    with torch.no_grad():\n",
    "        val_running_loss=0.\n",
    "        vbar = tqdm(val_loader);\n",
    "        if epoch%1==0:\n",
    "            model.eval()\n",
    "            for (y,mask) in vbar:\n",
    "                y=y.cuda()\n",
    "                pred_mask=mask.cuda()\n",
    "                predict=nn.Sigmoid()(model(y))\n",
    "                val_loss = criterion(predict,pred_mask)\n",
    "                val_running_loss += (val_loss.item())/len(val_loader)\n",
    "        vbar.set_postfix({'Epoch': f'{epoch+1}/{total}',\n",
    "                          'current_loss':f'{val_loss.item():.2f}'})"
   ]
  },
  {
   "cell_type": "code",
   "execution_count": 36,
   "id": "183bd7d5",
   "metadata": {},
   "outputs": [],
   "source": [
    "x,y=val_loader.dataset.__getitem__(1)\n",
    "y_output= model(x.reshape(1,3,128,128).cuda())"
   ]
  },
  {
   "cell_type": "code",
   "execution_count": 32,
   "id": "e240be60",
   "metadata": {},
   "outputs": [
    {
     "data": {
      "text/plain": [
       "<matplotlib.image.AxesImage at 0x21228182760>"
      ]
     },
     "execution_count": 32,
     "metadata": {},
     "output_type": "execute_result"
    },
    {
     "data": {
      "image/png": "[encoded data removed]",
      "text/plain": [
       "<Figure size 432x288 with 1 Axes>"
      ]
     },
     "metadata": {
      "needs_background": "light"
     },
     "output_type": "display_data"
    }
   ],
   "source": [
    "plt.imshow(x[0].T,cmap='gray')"
   ]
  },
  {
   "cell_type": "code",
   "execution_count": 33,
   "id": "7589322f",
   "metadata": {},
   "outputs": [
    {
     "data": {
      "text/plain": [
       "<matplotlib.image.AxesImage at 0x2123c7c7f10>"
      ]
     },
     "execution_count": 33,
     "metadata": {},
     "output_type": "execute_result"
    },
    {
     "data": {
      "image/png": "[encoded data removed]",
      "text/plain": [
       "<Figure size 432x288 with 1 Axes>"
      ]
     },
     "metadata": {
      "needs_background": "light"
     },
     "output_type": "display_data"
    }
   ],
   "source": [
    "plt.imshow(1-y[0].T,cmap='gray')"
   ]
  },
  {
   "cell_type": "code",
   "execution_count": 37,
   "id": "f6b5a6ad",
   "metadata": {},
   "outputs": [
    {
     "data": {
      "text/plain": [
       "<matplotlib.image.AxesImage at 0x2123c899c10>"
      ]
     },
     "execution_count": 37,
     "metadata": {},
     "output_type": "execute_result"
    },
    {
     "data": {
      "image/png": "[encoded data removed]",
      "text/plain": [
       "<Figure size 432x288 with 1 Axes>"
      ]
     },
     "metadata": {
      "needs_background": "light"
     },
     "output_type": "display_data"
    }
   ],
   "source": [
    "plt.imshow(1-(nn.Sigmoid()(y_output[0]).cpu().detach().numpy()[0].T)>0.5,cmap='gray')"
   ]
  }
 ],
 "metadata": {
  "kernelspec": {
   "display_name": "Python 3 (ipykernel)",
   "language": "python",
   "name": "python3"
  },
  "language_info": {
   "codemirror_mode": {
    "name": "ipython",
    "version": 3
   },
   "file_extension": ".py",
   "mimetype": "text/x-python",
   "name": "python",
   "nbconvert_exporter": "python",
   "pygments_lexer": "ipython3",
   "version": "3.9.16"
  }
 },
 "nbformat": 4,
 "nbformat_minor": 5
}
